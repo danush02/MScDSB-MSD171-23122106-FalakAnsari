{
 "cells": [
  {
   "cell_type": "code",
   "execution_count": 1,
   "metadata": {},
   "outputs": [
    {
     "name": "stdout",
     "output_type": "stream",
     "text": [
      "Falak\n",
      "Falak\n",
      "Falak\n",
      "Falak\n",
      "Falak\n",
      "Falak\n",
      "Falak\n",
      "Falak\n",
      "Falak\n",
      "Falak\n",
      "\n"
     ]
    }
   ],
   "source": [
    "n1=input (\"enter a name:\")\n",
    "n2=int(input(\"enter the nuber of time\"))\n",
    "output=(n1+\"\\n\")*n2\n",
    "print(output)\n"
   ]
  },
  {
   "cell_type": "markdown",
   "metadata": {},
   "source": [
    "class SportMart:\n",
    "    def __init__(self):\n",
    "        self.inventory = {}\n",
    "\n",
    "    def add_item_to_inventory(self, item_name, quantity):\n",
    "        if item_name in self.inventory:\n",
    "            self.inventory[item_name] += quantity\n",
    "        else:\n",
    "            self.inventory[item_name] = quantity\n",
    "\n",
    "    def place_order(self, item_name, quantity):\n",
    "        if item_name in self.inventory and self.inventory[item_name] >= quantity:\n",
    "            self.inventory[item_name] -= quantity\n",
    "            return True\n",
    "        else:\n",
    "            return False\n",
    "\n",
    "    def display_inventory(self):\n",
    "        print(\"Inventory:\")\n",
    "        for item, quantity in self.inventory.items():\n",
    "            print(f\"{item}: {quantity} available\")\n",
    "    \n",
    "    def display_orders(self, orders):\n",
    "        print(\"Orders:\")\n",
    "        for item, quantity in orders.items():\n",
    "            print(f\"{item}: {quantity} ordered\")\n",
    "\n",
    "# Initialize the SportMart store\n",
    "trinity_store = SportMart()\n",
    "orders = {}\n",
    "\n",
    "while True:\n",
    "    print(\"\\nSportMart Menu:\")\n",
    "    print(\"1. Add Item to Inventory\")\n",
    "    print(\"2. Place Order\")\n",
    "    print(\"3. Display Inventory\")\n",
    "    print(\"4. Display Orders\")\n",
    "    print(\"5. Exit\")\n",
    "    \n",
    "    choice = input(\"Enter your choice: \")\n",
    "\n",
    "    if choice == \"1\":\n",
    "        item_name = input(\"Enter item name: \")\n",
    "        quantity = int(input(\"Enter quantity: \"))\n",
    "        trinity_store.add_item_to_inventory(item_name, quantity)\n",
    "        print(\"Item added to inventory.\")\n",
    "\n",
    "    elif choice == \"2\":\n",
    "        item_name = input(\"Enter item name: \")\n",
    "        quantity = int(input(\"Enter quantity to order: \"))\n",
    "        if trinity_store.place_order(item_name, quantity):\n",
    "            if item_name in orders:\n",
    "                orders[item_name] += quantity\n",
    "            else:\n",
    "                orders[item_name] = quantity\n",
    "            print(\"Order placed.\")\n",
    "        else:\n",
    "            print(\"Item not available or quantity insufficient.\")\n",
    "\n",
    "    elif choice == \"3\":\n",
    "        trinity_store.display_inventory()\n",
    "\n",
    "    elif choice == \"4\":\n",
    "        trinity_store.display_orders(orders)\n",
    "\n",
    "    elif choice == \"5\":\n",
    "        break\n",
    "\n",
    "    else:\n",
    "        print(\"Invalid choice. Please select a valid option.\")\n"
   ]
  },
  {
   "cell_type": "code",
   "execution_count": null,
   "metadata": {},
   "outputs": [],
   "source": []
  }
 ],
 "metadata": {
  "kernelspec": {
   "display_name": "Python 3",
   "language": "python",
   "name": "python3"
  },
  "language_info": {
   "codemirror_mode": {
    "name": "ipython",
    "version": 3
   },
   "file_extension": ".py",
   "mimetype": "text/x-python",
   "name": "python",
   "nbconvert_exporter": "python",
   "pygments_lexer": "ipython3",
   "version": "3.11.4"
  },
  "orig_nbformat": 4
 },
 "nbformat": 4,
 "nbformat_minor": 2
}
