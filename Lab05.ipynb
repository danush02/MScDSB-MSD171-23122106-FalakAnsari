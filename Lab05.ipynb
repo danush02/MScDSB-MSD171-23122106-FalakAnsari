{
 "cells": [
  {
   "cell_type": "code",
   "execution_count": 17,
   "metadata": {},
   "outputs": [
    {
     "name": "stdout",
     "output_type": "stream",
     "text": [
      "Falak Ansari\n",
      "Number of vowels in the string: 5\n",
      "a: 4\n",
      "e: 0\n",
      "i: 1\n",
      "o: 0\n",
      "u: 0\n"
     ]
    }
   ],
   "source": [
    "# Function to count vowels in a string\n",
    "def count_vowels(text):\n",
    "    # Convert the input text to lowercase to make the counting case-insensitive\n",
    "    text = text.lower()\n",
    "    \n",
    "    # Initialize a counter for vowels\n",
    "    vowel_count = 0\n",
    "    \n",
    "    # Define a set of vowels\n",
    "    vowels = {'a', 'e', 'i', 'o', 'u'}\n",
    "    \n",
    "    # Iterate through each character in the text\n",
    "    for char in text:\n",
    "        if char in vowels:\n",
    "            vowel_count += 1\n",
    "    \n",
    "    return vowel_count\n",
    "\n",
    "# Collect input from the user\n",
    "user_input = input(\"Enter a string: \")\n",
    "\n",
    "# printing the user input \n",
    "print(user_input)\n",
    "\n",
    "# Call the count_vowels function to count vowels\n",
    "vowel_count = count_vowels(user_input)\n",
    "\n",
    "# Display the result\n",
    "print(f'Number of vowels in the string: {vowel_count}')\n",
    "\n",
    "# Initialize counters for each vowel\n",
    "vowel_counts = {'a': 0, 'e': 0, 'i': 0, 'o': 0, 'u': 0}\n",
    "\n",
    "# Convert the input text to lowercase to make the counting case-insensitive\n",
    "user_input =user_input.lower()\n",
    "\n",
    "# Iterate through each character in the text\n",
    "for char in user_input:\n",
    "    if char in vowel_counts:\n",
    "        vowel_counts[char] += 1\n",
    "\n",
    "# Print the vowel counts\n",
    "for vowel, count in vowel_counts.items():\n",
    "    print(f'{vowel}: {count}')\n",
    "\n"
   ]
  },
  {
   "cell_type": "code",
   "execution_count": 18,
   "metadata": {},
   "outputs": [
    {
     "name": "stdout",
     "output_type": "stream",
     "text": [
      "Percentage of vowels in the string: 41.67%\n"
     ]
    }
   ],
   "source": [
    "# Function to calculate the percentage of vowels in a string\n",
    "def calculate_vowel_percentage(text):\n",
    "    # Convert the input text to lowercase to make the counting case-insensitive\n",
    "    text = text.lower()\n",
    "    \n",
    "    # Initialize counters for vowels and total characters\n",
    "    vowel_count = 0\n",
    "    total_characters = len(text)\n",
    "    \n",
    "    # Define a set of vowels\n",
    "    vowels = {'a', 'e', 'i', 'o', 'u'}\n",
    "    \n",
    "    # Iterate through each character in the text\n",
    "    for char in text:\n",
    "        if char in vowels:\n",
    "            vowel_count += 1\n",
    "    \n",
    "    # Calculate the percentage of vowels\n",
    "    percentage = (vowel_count / total_characters) * 100\n",
    "    \n",
    "    return percentage\n",
    "\n",
    "# Collect input from the user\n",
    "user_input = input(\"Enter a string: \")\n",
    "\n",
    "# Call the calculate_vowel_percentage function to calculate the percentage\n",
    "vowel_percentage = calculate_vowel_percentage(user_input)\n",
    "\n",
    "# Display the result\n",
    "print(f'Percentage of vowels in the string: {vowel_percentage:.2f}%')\n"
   ]
  }
 ],
 "metadata": {
  "kernelspec": {
   "display_name": "Python 3",
   "language": "python",
   "name": "python3"
  },
  "language_info": {
   "codemirror_mode": {
    "name": "ipython",
    "version": 3
   },
   "file_extension": ".py",
   "mimetype": "text/x-python",
   "name": "python",
   "nbconvert_exporter": "python",
   "pygments_lexer": "ipython3",
   "version": "3.11.4"
  },
  "orig_nbformat": 4
 },
 "nbformat": 4,
 "nbformat_minor": 2
}
