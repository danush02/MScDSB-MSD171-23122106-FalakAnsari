{
  "cells": [
    {
      "cell_type": "markdown",
      "metadata": {
        "colab_type": "text",
        "id": "view-in-github"
      },
      "source": [
        "<a href=\"https://colab.research.google.com/github/falak105/MScDSB-MSD171-23122106-FalakAnsari/blob/main/Lab04.ipynb\" target=\"_parent\"><img src=\"https://colab.research.google.com/assets/colab-badge.svg\" alt=\"Open In Colab\"/></a>"
      ]
    },
    {
      "cell_type": "code",
      "execution_count": 5,
      "metadata": {
        "id": "lw3BDRqBVzjf"
      },
      "outputs": [
        {
          "name": "stdout",
          "output_type": "stream",
          "text": [
            "The total amount obtained in this day =  0\n"
          ]
        },
        {
          "ename": "NameError",
          "evalue": "name 'c_name' is not defined",
          "output_type": "error",
          "traceback": [
            "\u001b[1;31m---------------------------------------------------------------------------\u001b[0m",
            "\u001b[1;31mNameError\u001b[0m                                 Traceback (most recent call last)",
            "Cell \u001b[1;32mIn[5], line 27\u001b[0m\n\u001b[0;32m     25\u001b[0m count \u001b[39m=\u001b[39m \u001b[39minput\u001b[39m(\u001b[39m\"\u001b[39m\u001b[39mEnter the Guest Count: \u001b[39m\u001b[39m\"\u001b[39m)\n\u001b[0;32m     26\u001b[0m rate\u001b[39m=\u001b[39minitial_rate\u001b[39m*\u001b[39mquantity\n\u001b[1;32m---> 27\u001b[0m RMS(c_name , o_date , order , rate , quantity , count)\n\u001b[0;32m     28\u001b[0m \u001b[39mwith\u001b[39;00m \u001b[39mopen\u001b[39m(\u001b[39m\"\u001b[39m\u001b[39morder.txt\u001b[39m\u001b[39m\"\u001b[39m , \u001b[39m\"\u001b[39m\u001b[39mr+\u001b[39m\u001b[39m\"\u001b[39m) \u001b[39mas\u001b[39;00m file :\n\u001b[0;32m     29\u001b[0m     \u001b[39mfor\u001b[39;00m line \u001b[39min\u001b[39;00m file:\n",
            "\u001b[1;31mNameError\u001b[0m: name 'c_name' is not defined"
          ]
        }
      ],
      "source": [
        "fileOrder=open(\"order.txt\",\"w+\")\n",
        "fileOrder.write(\"Todays Orders\\n\")\n",
        "fileOrder.close()\n",
        "def FramersHarvest(name,item,price,quantity):\n",
        "    fileOrder=open(\"order.txt\",\"a+\")\n",
        "    fileOrder.write(\"\\n Name\\t:\\t\"+name)\n",
        "    fileOrder.write(\"\\n Item\\t:\\t\"+item)\n",
        "    fileOrder.write(\"\\n Price\\t:\\t\"+price)\n",
        "    fileOrder.write(\"\\n Quantity\\t:\\t\"+quantity)\n",
        "    fileOrder.close()\n",
        "    return True\n",
        "name=input(\"Enter the Name\")\n",
        "item=input(\"Enter the Item\")\n",
        "price=input(\"Enter the Price\")\n",
        "quantity=input(\"Enter the Quantity\")\n",
        "gro=FramersHarvest(name,item,price,quantity)\n",
        "\n",
        "if gro:\n",
        "     print(\"Order details are save\")\n",
        "else:\n",
        "     print(\"Null error\")\n",
        "\n",
        "salescount = 0\n",
        "with open(\"RMS.txt\" , \"r+\") as file :\n",
        "    for line in file:\n",
        "        if \"GuestCount\" in line:\n",
        "            \n",
        "            Rate = int(line.split(\"=\")[1].strip())\n",
        "            salescount += Rate\n",
        "print(\"The total Guest obtained in this day = \" , salescount)\n",
        "    # print(\"The total amount of guests per day: \" , salescoun"
      ]
    },
    {
      "cell_type": "code",
      "execution_count": 9,
      "metadata": {},
      "outputs": [
        {
          "name": "stdout",
          "output_type": "stream",
          "text": [
            "The order quantityis: 5\n"
          ]
        }
      ],
      "source": [
        "\n",
        "\n"
      ]
    }
  ],
  "metadata": {
    "colab": {
      "authorship_tag": "ABX9TyOvIqMZhhV4ubl5hSkunpF1",
      "include_colab_link": true,
      "provenance": []
    },
    "kernelspec": {
      "display_name": "Python 3",
      "name": "python3"
    },
    "language_info": {
      "codemirror_mode": {
        "name": "ipython",
        "version": 3
      },
      "file_extension": ".py",
      "mimetype": "text/x-python",
      "name": "python",
      "nbconvert_exporter": "python",
      "pygments_lexer": "ipython3",
      "version": "3.11.4"
    }
  },
  "nbformat": 4,
  "nbformat_minor": 0
}
