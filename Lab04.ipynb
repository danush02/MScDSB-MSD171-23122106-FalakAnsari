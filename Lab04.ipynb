{
  "cells": [
    {
      "cell_type": "markdown",
      "metadata": {
        "colab_type": "text",
        "id": "view-in-github"
      },
      "source": [
        "<a href=\"https://colab.research.google.com/github/falak105/MScDSB-MSD171-23122106-FalakAnsari/blob/main/Lab04.ipynb\" target=\"_parent\"><img src=\"https://colab.research.google.com/assets/colab-badge.svg\" alt=\"Open In Colab\"/></a>"
      ]
    },
    {
      "cell_type": "code",
      "execution_count": 2,
      "metadata": {
        "id": "lw3BDRqBVzjf"
      },
      "outputs": [
        {
          "name": "stdout",
          "output_type": "stream",
          "text": [
            "Order details are save\n",
            "The total Guest obtained in this day =  0\n"
          ]
        }
      ],
      "source": [
        "fileOrder=open(\"order.txt\",\"w+\")\n",
        "fileOrder.write(\"Todays Orders\\n\")\n",
        "fileOrder.close()\n",
        "def FramersHarvest(name,item,price,quantity):\n",
        "    fileOrder=open(\"order.txt\",\"a+\")\n",
        "    fileOrder.write(\"\\n Name\\t:\\t\"+name)\n",
        "    fileOrder.write(\"\\n Item\\t:\\t\"+item)\n",
        "    fileOrder.write(\"\\n Price\\t:\\t\"+price)\n",
        "    fileOrder.write(\"\\n Quantity\\t:\\t\"+quantity)\n",
        "    fileOrder.close()\n",
        "    return True\n",
        "name=input(\"Enter the Name\")\n",
        "item=input(\"Enter the Item\")\n",
        "price=input(\"Enter the Price\")\n",
        "quantity=input(\"Enter the Quantity\")\n",
        "gro=FramersHarvest(name,item,price,quantity)\n",
        "\n",
        "if gro:\n",
        "     print(\"Order details are save\")\n",
        "else:\n",
        "     print(\"Null error\")\n",
        "\n",
        "salescount = 0\n",
        "with open(\"order.txt\" , \"r+\") as file :\n",
        "    for line in file:\n",
        "        if \"GuestCount\" in line:\n",
        "            \n",
        "            Rate = int(line.split(\"=\")[1].strip())\n",
        "            salescount += Rate\n",
        "print(\"The total Guest obtained in this day = \" , salescount)\n",
        "    "
      ]
    },
    {
      "cell_type": "code",
      "execution_count": 9,
      "metadata": {},
      "outputs": [
        {
          "name": "stdout",
          "output_type": "stream",
          "text": [
            "The order quantityis: 5\n"
          ]
        }
      ],
      "source": [
        "\n",
        "\n"
      ]
    }
  ],
  "metadata": {
    "colab": {
      "authorship_tag": "ABX9TyOvIqMZhhV4ubl5hSkunpF1",
      "include_colab_link": true,
      "provenance": []
    },
    "kernelspec": {
      "display_name": "Python 3",
      "name": "python3"
    },
    "language_info": {
      "codemirror_mode": {
        "name": "ipython",
        "version": 3
      },
      "file_extension": ".py",
      "mimetype": "text/x-python",
      "name": "python",
      "nbconvert_exporter": "python",
      "pygments_lexer": "ipython3",
      "version": "3.11.4"
    }
  },
  "nbformat": 4,
  "nbformat_minor": 0
}
