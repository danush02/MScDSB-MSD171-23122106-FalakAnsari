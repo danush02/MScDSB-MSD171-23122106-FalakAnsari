{
 "cells": [
  {
   "cell_type": "code",
   "execution_count": null,
   "metadata": {},
   "outputs": [],
   "source": [
    "import random # Importing the external library\n",
    "item=[\"Rice\",\"Dal\",\"Coffee\",\"Milk\",\"salt\",\"Oil\",\"Tomato\",\"potato\",\"Onion\",\"Tea\"]\n",
    "quantity=[\"26\",\"20\",\"27\",\"30\",\"12\",\"45\",\"50\",\"21\",\"14\",\"59\"]\n",
    "price=[\"70\",\"50\",\"80\",\"30\",\"20\",\"105\",\"60\",\"25\",\"20\",\"50\"]\n",
    "file=open(\"23122106.csv\")\n",
    "file.write(\"23122106.csv\",\"a+\")\n",
    "file.close()\n",
    "\n",
    "\n",
    "r1 = random.randint(0, 10) # Generating the random number from the range and store it in r1 variable\n",
    "print(r1)\n",
    "r2 = random.randint(0, 10) # Generating the random number from the range and store it in r1 variable\n",
    "print(r1)\n"
   ]
  },
  {
   "cell_type": "code",
   "execution_count": 8,
   "metadata": {},
   "outputs": [
    {
     "ename": "AttributeError",
     "evalue": "'list' object has no attribute 'split'",
     "output_type": "error",
     "traceback": [
      "\u001b[1;31m---------------------------------------------------------------------------\u001b[0m",
      "\u001b[1;31mAttributeError\u001b[0m                            Traceback (most recent call last)",
      "Cell \u001b[1;32mIn[8], line 12\u001b[0m\n\u001b[0;32m      9\u001b[0m \u001b[39m# Create a list of lists for the CSV data\u001b[39;00m\n\u001b[0;32m     11\u001b[0m data \u001b[39m=\u001b[39m [[\u001b[39m\"\u001b[39m\u001b[39mItem\u001b[39m\u001b[39m\"\u001b[39m, \u001b[39m\"\u001b[39m\u001b[39mQuantity\u001b[39m\u001b[39m\"\u001b[39m, \u001b[39m\"\u001b[39m\u001b[39mPrice\u001b[39m\u001b[39m\"\u001b[39m]] \u001b[39m# Header row\u001b[39;00m\n\u001b[1;32m---> 12\u001b[0m \u001b[39mset\u001b[39m\u001b[39m=\u001b[39m(\u001b[39mint\u001b[39m(data\u001b[39m.\u001b[39;49msplit(\u001b[39m\"\u001b[39m\u001b[39m,\u001b[39m\u001b[39m\"\u001b[39m)[\u001b[39m1\u001b[39m]\u001b[39m.\u001b[39mstrip()))\n\u001b[0;32m     14\u001b[0m \u001b[39m# Populate the data list with random values\u001b[39;00m\n\u001b[0;32m     15\u001b[0m \u001b[39mfor\u001b[39;00m i \u001b[39min\u001b[39;00m \u001b[39mrange\u001b[39m(\u001b[39m10\u001b[39m):\n",
      "\u001b[1;31mAttributeError\u001b[0m: 'list' object has no attribute 'split'"
     ]
    }
   ],
   "source": [
    "import random\n",
    "import csv\n",
    "\n",
    "# Define lists for items, quantities, and prices\n",
    "items = [\"Apple\", \"Banana\", \"Orange\", \"Milk\", \"Bread\", \"Chicken\", \"Rice\", \"Pasta\", \"Tomato\", \"Potato\"]\n",
    "quantities = [random.randint(1, 10) for _ in range(10)]  # Generate random quantities\n",
    "prices = [round(random.uniform(1, 10), 2) for _ in range(10)]  # Generate random prices with 2 decimal places\n",
    "\n",
    "# Create a list of lists for the CSV data\n",
    "\n",
    "data = [[\"Item\", \"Quantity\", \"Price\"]] # Header row\n",
    "set=(int(data.split(\",\")[1].strip()))\n",
    "\n",
    "# Populate the data list with random values\n",
    "for i in range(10):\n",
    "    item = items[random.randint(0, 9)]\n",
    "    quantity = quantities[i]\n",
    "    price = prices[i]\n",
    "    set.append([item, quantity, price])\n",
    "\n",
    "# Write data to a CSV file\n",
    "with open('2312106.csv', mode='w', newline='') as file:\n",
    "    writer = csv.writer(file)\n",
    "    writer.writerows(set)\n",
    "\n",
    "print(\"CSV file '23122106.csv' has been created with random data.\")\n"
   ]
  },
  {
   "cell_type": "code",
   "execution_count": 6,
   "metadata": {},
   "outputs": [
    {
     "name": "stdout",
     "output_type": "stream",
     "text": [
      "CSV file 'shopping.csv' has been created with at least 100 rows of random shopping data.\n",
      "['Tomato', '20', '6.5']\n",
      "['Banana', '10', '2.97']\n",
      "['Orange', '4', '6.14']\n",
      "['Bread', '18', '1.93']\n",
      "['Milk', '6', '7.33']\n"
     ]
    }
   ],
   "source": [
    "import random\n",
    "import csv\n",
    "\n",
    "# Define lists for items, quantities, and unit prices\n",
    "items = [\"Apple\", \"Banana\", \"Orange\", \"Milk\", \"Bread\", \"Chicken\", \"Rice\", \"Pasta\", \"Tomato\", \"Potato\"]\n",
    "data = []\n",
    "\n",
    "# Generate random data for at least 100 rows\n",
    "for _ in range(100):\n",
    "    item = random.choice(items)\n",
    "    quantity = random.randint(1, 20)  # Random quantity between 1 and 20\n",
    "    unit_price = round(random.uniform(1, 10), 2)  # Random unit price with 2 decimal places\n",
    "    data.append([item, quantity, unit_price])\n",
    "\n",
    "# Write data to a CSV file\n",
    "with open('shopping.csv', mode='w', newline='') as file:\n",
    "    writer = csv.writer(file)\n",
    "    writer.writerow([\"Item\", \"Quantity\", \"UnitPrice\"])  # Header row\n",
    "    writer.writerows(data)\n",
    "\n",
    "print(\"CSV file 'shopping.csv' has been created with at least 100 rows of random shopping data.\")\n",
    "\n",
    "# Now, if you want to read and split the CSV data into a list, you can use the following code:\n",
    "csv_data = []\n",
    "with open('shopping.csv', mode='r') as file:\n",
    "    reader = csv.reader(file)\n",
    "    header = next(reader)  # Skip the header row\n",
    "    for row in reader:\n",
    "        csv_data.append(row)\n",
    "\n",
    "# Print the first 5 rows of the CSV data\n",
    "for row in csv_data[:5]:\n",
    "    print(row)\n"
   ]
  }
 ],
 "metadata": {
  "kernelspec": {
   "display_name": "Python 3",
   "language": "python",
   "name": "python3"
  },
  "language_info": {
   "codemirror_mode": {
    "name": "ipython",
    "version": 3
   },
   "file_extension": ".py",
   "mimetype": "text/x-python",
   "name": "python",
   "nbconvert_exporter": "python",
   "pygments_lexer": "ipython3",
   "version": "3.11.4"
  },
  "orig_nbformat": 4
 },
 "nbformat": 4,
 "nbformat_minor": 2
}
