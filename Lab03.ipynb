{
  "cells": [
    {
      "cell_type": "markdown",
      "metadata": {
        "colab_type": "text",
        "id": "view-in-github"
      },
      "source": [
        "<a href=\"https://colab.research.google.com/github/falak105/MScDSB-MSD171-23122106-FalakAnsari/blob/main/Lab03.ipynb\" target=\"_parent\"><img src=\"https://colab.research.google.com/assets/colab-badge.svg\" alt=\"Open In Colab\"/></a>"
      ]
    },
    {
      "cell_type": "code",
      "execution_count": 2,
      "metadata": {
        "colab": {
          "base_uri": "https://localhost:8080/"
        },
        "id": "NkjRLlHnU0Wf",
        "outputId": "28d47c80-d4f7-481e-c312-6b92d0de79c4"
      },
      "outputs": [
        {
          "name": "stdout",
          "output_type": "stream",
          "text": [
            "54294\n",
            "100\n",
            "The Mean is:  542\n",
            "The Minimum value is:  17\n",
            "The maximum value is:  999\n",
            "The Range is:  982\n"
          ]
        }
      ],
      "source": [
        "# Function to calculate Mean\n",
        "def Mean_calculate(a):\n",
        "    total=0              # Counting the total length\n",
        "    count=0              # Counting of the length for  the sum of mean \n",
        "    min_val= a[0]       # To find minimum value\n",
        "    max_val =a[0]       # To find the maximum value\n",
        "    for i in a:\n",
        "        total = total+i     # calculating the total\n",
        "        count  = count+1    # Calculating the sum\n",
        "        if i < min_val:\n",
        "            min_val = i     # Minmum value of the total length\n",
        "        elif i > max_val:\n",
        "            max_val = i     # maximum value of the total length\n",
        "    mean = total //count\n",
        "    return total , count , mean, min_val,max_val\n",
        "# giving the lit of the numbers \n",
        "l1=[761, 123, 585, 275, 194, 840, 999, 622, 763, 40, 825, 687, 402, 338, 611, 987, 739, 95, 819, 568, 320, 126, 688, 948, 514, 223, 751, 379, 857, 767, 492, 162, 437, 934, 430, 343, 725, 511, 580, 678, 708, 823, 346, 179, 786, 663, 195, 890, 267, 502, 214, 300, 786, 961, 235, 559, 992, 919, 948, 318, 57, 787, 653, 317, 305, 172, 966, 182, 970, 17, 89, 624, 629, 595, 485, 752, 984, 978, 460, 124, 321, 256, 614, 852, 811, 561, 127, 207, 406, 615, 888, 391, 691, 470, 911, 401, 137, 600, 478, 682]\n",
        "total,count,mean,min_val,max_val = Mean_calculate(l1)   #calling the function \n",
        "\n",
        "# printing all the statment\n",
        "\n",
        "print(total)\n",
        "print(count)\n",
        "print(\"The Mean is: \",mean)\n",
        "print(\"The Minimum value is: \",min_val)\n",
        "print(\"The maximum value is: \",max_val)\n",
        "print(\"The Range is: \",max_val-min_val)\n"
      ]
    }
  ],
  "metadata": {
    "colab": {
      "include_colab_link": true,
      "provenance": []
    },
    "kernelspec": {
      "display_name": "Python 3",
      "language": "python",
      "name": "python3"
    },
    "language_info": {
      "codemirror_mode": {
        "name": "ipython",
        "version": 3
      },
      "file_extension": ".py",
      "mimetype": "text/x-python",
      "name": "python",
      "nbconvert_exporter": "python",
      "pygments_lexer": "ipython3",
      "version": "3.11.4"
    },
    "orig_nbformat": 4
  },
  "nbformat": 4,
  "nbformat_minor": 0
}
